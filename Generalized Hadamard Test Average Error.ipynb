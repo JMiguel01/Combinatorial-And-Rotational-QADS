{
 "cells": [
  {
   "cell_type": "code",
   "execution_count": 1,
   "id": "958005d1",
   "metadata": {},
   "outputs": [],
   "source": [
    "import math\n",
    "import numpy as np\n",
    "import pandas as pd\n",
    "import matplotlib.pyplot as plt\n",
    "\n",
    "xaxisfigure21 = np.arange(0,1.8,0.2)\n",
    "xaxisfigure22 = np.arange(1.6, math.pi+0.2,0.2)\n",
    "def probabilityq(angle,m):\n",
    "    z = (math.cos(angle/2))**(2*m)\n",
    "    return(z)\n",
    "def bernoulli(n, q):\n",
    "    n_success = 0\n",
    "    for i in range(n):\n",
    "        random_number = np.random.random()\n",
    "        if random_number < q:\n",
    "            n_success += 1\n",
    "    return(n_success)\n",
    "def anglep(a,m):\n",
    "    p = a/(10**4)\n",
    "    alpha = math.acos(2*(p**(1/m))-1) \n",
    "    #alpha = 2*math.acos(p**(1/(2*m))) \n",
    "    return(alpha)\n",
    "def mae(beta,n,m):\n",
    "    alphas = []\n",
    "    for i in range(n):\n",
    "        alphas.append(abs((anglep(bernoulli(10**4, (probabilityq(beta,m))),m))-beta))\n",
    "    #print(alphas)\n",
    "    Sum = sum(alphas)\n",
    "    #print(Sum)\n",
    "    result = Sum/n\n",
    "    #result = abs((Sum)/n)\n",
    "    return(result)\n",
    "def yaxis(xaxis,m):\n",
    "    yaxisfigure = []\n",
    "    for i in xaxis:\n",
    "        yaxisfigure.append(mae(i,10**3,m))\n",
    "    return(yaxisfigure)\n",
    "# Calculate the average\n",
    "m1_mean = np.mean(yaxis(xaxisfigure21,1))\n",
    "m2_mean = np.mean(yaxis(xaxisfigure21,2))\n",
    "m3_mean = np.mean(yaxis(xaxisfigure21,3))\n",
    "m4_mean = np.mean(yaxis(xaxisfigure21,4))\n",
    "m5_mean = np.mean(yaxis(xaxisfigure21,5))\n",
    "# Calculate the standard deviation\n",
    "m1_std = np.std(yaxis(xaxisfigure21,1))\n",
    "m2_std = np.std(yaxis(xaxisfigure21,2))\n",
    "m3_std = np.std(yaxis(xaxisfigure21,3))\n",
    "m4_std = np.std(yaxis(xaxisfigure21,4))\n",
    "m5_std = np.std(yaxis(xaxisfigure21,5))\n",
    "# Define labels, positions, bar heights and error bar heights\n",
    "labels = ['1', '2', '3', '4', '5']\n",
    "x_pos = np.arange(len(labels))\n",
    "m = [m1_mean, m2_mean, m3_mean, m4_mean, m5_mean]\n",
    "error = [m1_std, m2_std, m3_std, m4_std, m5_std]"
   ]
  },
  {
   "cell_type": "code",
   "execution_count": 38,
   "id": "a96a8e0b",
   "metadata": {},
   "outputs": [
    {
     "data": {
      "image/png": "[encoded data removed]",
      "text/plain": [
       "<Figure size 432x288 with 1 Axes>"
      ]
     },
     "metadata": {
      "needs_background": "light"
     },
     "output_type": "display_data"
    }
   ],
   "source": [
    "# Build the plot\n",
    "fig, ax = plt.subplots()\n",
    "ax.bar(x_pos, m,\n",
    "       yerr=error,\n",
    "       align='center',\n",
    "       alpha=0.5,\n",
    "       ecolor='black',\n",
    "       capsize=10)\n",
    "ax.set_ylabel('Average Error')\n",
    "ax.set_xlabel('m')\n",
    "ax.set_xticks(x_pos)\n",
    "ax.set_xticklabels(labels)\n",
    "ax.yaxis.grid(True)\n",
    "\n",
    "# Save the figure and show\n",
    "plt.show()"
   ]
  },
  {
   "cell_type": "code",
   "execution_count": null,
   "id": "34760cde",
   "metadata": {},
   "outputs": [],
   "source": [
    "# Calculate the average\n",
    "m12_mean = np.mean(yaxis(xaxisfigure22,1))\n",
    "m22_mean = np.mean(yaxis(xaxisfigure22,2))\n",
    "m32_mean = np.mean(yaxis(xaxisfigure22,3))\n",
    "m42_mean = np.mean(yaxis(xaxisfigure22,4))\n",
    "m52_mean = np.mean(yaxis(xaxisfigure22,5))\n",
    "# Calculate the standard deviation\n",
    "m12_std = np.std(yaxis(xaxisfigure22,1))\n",
    "m22_std = np.std(yaxis(xaxisfigure22,2))\n",
    "m32_std = np.std(yaxis(xaxisfigure22,3))\n",
    "m42_std = np.std(yaxis(xaxisfigure22,4))\n",
    "m52_std = np.std(yaxis(xaxisfigure22,5))\n",
    "# Define labels, positions, bar heights and error bar heights\n",
    "labels = ['1', '2', '3', '4', '5']\n",
    "x_pos = np.arange(len(labels))\n",
    "m2 = [m12_mean, m22_mean, m32_mean, m42_mean, m52_mean]\n",
    "error2 = [m12_std, m22_std, m32_std, m42_std, m52_std]\n",
    "# Build the plot\n",
    "fig2, ax2 = plt.subplots()\n",
    "ax2.bar(x_pos, m2,\n",
    "       yerr=error2,\n",
    "       align='center',\n",
    "       alpha=0.5,\n",
    "       ecolor='black',\n",
    "       capsize=10)\n",
    "ax2.set_ylabel('Average Error')\n",
    "ax2.set_xlabel('m')\n",
    "ax2.set_xticklabels(labels)\n",
    "ax2.yaxis.grid(True)\n",
    "\n",
    "# Save the figure and show\n",
    "plt.show()"
   ]
  }
 ],
 "metadata": {
  "kernelspec": {
   "display_name": "Python 3 (ipykernel)",
   "language": "python",
   "name": "python3"
  },
  "language_info": {
   "codemirror_mode": {
    "name": "ipython",
    "version": 3
   },
   "file_extension": ".py",
   "mimetype": "text/x-python",
   "name": "python",
   "nbconvert_exporter": "python",
   "pygments_lexer": "ipython3",
   "version": "3.9.7"
  }
 },
 "nbformat": 4,
 "nbformat_minor": 5
}
